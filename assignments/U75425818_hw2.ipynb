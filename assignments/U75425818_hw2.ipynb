{
  "metadata": {
    "kernelspec": {
      "name": "python",
      "display_name": "Python (Pyodide)",
      "language": "python"
    },
    "language_info": {
      "codemirror_mode": {
        "name": "python",
        "version": 3
      },
      "file_extension": ".py",
      "mimetype": "text/x-python",
      "name": "python",
      "nbconvert_exporter": "python",
      "pygments_lexer": "ipython3",
      "version": "3.8"
    }
  },
  "nbformat_minor": 5,
  "nbformat": 4,
  "cells": [
    {
      "cell_type": "code",
      "source": "#Homework 2: Derivatives - Abraham Cepeda Oseguera - BUID: U75425818",
      "metadata": {},
      "execution_count": null,
      "outputs": [],
      "id": "678cdee2-9593-447e-8657-75f824eee041"
    },
    {
      "cell_type": "code",
      "source": "#Problem 1. \nimport numpy as np\nimport matplotlib.pyplot as plt\n\n#1. f(x) = 1\ndef g1(x):\n    return x-x+1\n\ndef dg1(x):\n    return x-x\n\nx = np.linspace(-3, 3, 1000)\nplt.plot(x, g1(x), color='green', zorder=4)\nplt.plot(x, dg1(x), color='red', zorder=4)\nplt.scatter(1, g1(1), color='black', zorder=5)\nplt.scatter(1, dg1(1), color='black', zorder=5)\nplt.axhline( color = 'black')\nplt.axvline( color = 'black')\nplt.title(\"1. f(x) = 1\")\nplt.show()\n\n\n#2. f(x) = x\ndef g2(x):\n    return x\n\ndef dg2(x):\n    return x-x+1\n\nx = np.linspace(-3, 3, 1000)\nplt.plot(x, g2(x), color='green', zorder=4)\nplt.plot(x, dg2(x), color='red', zorder=4)\nplt.scatter(1, g2(1), color='black', zorder=5)\nplt.scatter(1, dg2(1), color='black', zorder=5)\nplt.axhline( color = 'black')\nplt.axvline( color = 'black')\nplt.title(\"2. f(x) = x\")\nplt.show()\n\n\n#3. f(x) = x^2\ndef g3(x):\n    return x*x\n\ndef dg3(x):\n    return 2*x\n\nx = np.linspace(-3, 3, 1000)\nplt.plot(x, g3(x), color='green', zorder=4)\nplt.plot(x, dg3(x), color='red', zorder=4)\nplt.scatter(1, g3(1), color='black', zorder=5)\nplt.scatter(1, dg3(1), color='black', zorder=5)\nplt.axhline( color = 'black')\nplt.axvline( color = 'black')\nplt.title(\"3. f(x) = x^2\")\nplt.show()\n\n\n#4. f(x) = x^3\ndef g4(x):\n    return x**x\n\ndef dg4(x):\n    return 3*(x*x)\n\nx = np.linspace(-3, 3, 1000)\nplt.plot(x, g4(x), color='green', zorder=4)\nplt.plot(x, dg4(x), color='red', zorder=4)\nplt.scatter(1, g4(1), color='black', zorder=5)\nplt.scatter(1, dg4(1), color='black', zorder=5)\nplt.axhline( color = 'black')\nplt.axvline( color = 'black')\nplt.title(\"4. f(x) = x^3\")\nplt.show()\n\n\n#5. f(x) = √x\ndef g5(x):\n    return np.sqrt(x)\n\ndef dg5(x):\n    return 1 / 2 * np.sqrt(x)\n\nx = np.linspace(-3, 3, 1000)\nplt.plot(x, g5(x), color='green', zorder=4)\nplt.plot(x, dg5(x), color='red', zorder=4)\nplt.scatter(1, g5(1), color='black', zorder=5)\nplt.scatter(1, dg5(1), color='black', zorder=5)\nplt.axhline( color = 'black')\nplt.axvline( color = 'black')\nplt.title(\"5. f(x) = √x\")\nplt.show()\n\n\n#6. f(x) = e^x\ndef g6(x):\n    return np.exp(x)\n\ndef dg6(x):\n    return np.exp(x)\n\nx = np.linspace(-3, 3, 1000)\nplt.plot(x, g6(x), color='green', zorder=4)\nplt.plot(x, dg6(x), color='red', zorder=4)\nplt.scatter(1, g6(1), color='black', zorder=5)\nplt.scatter(1, dg6(1), color='black', zorder=5)\nplt.axhline( color = 'black')\nplt.axvline( color = 'black')\nplt.title(\"6. f(x) = e^x\")\nplt.show()\n\n\n#7. f(x) = 2^x\ndef g7(x):\n    return pow(2,x)\n\ndef dg7(x):\n    return np.log(2) * pow(2,x)\n\nx = np.linspace(-3, 3, 1000)\nplt.plot(x, g7(x), color='green', zorder=4)\nplt.plot(x, dg7(x), color='red', zorder=4)\nplt.scatter(1, g7(1), color='black', zorder=5)\nplt.scatter(1, dg7(1), color='black', zorder=5)\nplt.axhline( color = 'black')\nplt.axvline( color = 'black')\nplt.title(\"7. f(x) = 2^x\")\nplt.show()\n\n\n#8. f(x) = log(x)\ndef g8(x):\n    return np.log(x)\n\ndef dg8(x):\n    return 1 / x\n\nx = np.linspace(-3, 3, 1000)\nplt.plot(x, g8(x), color='green', zorder=4)\nplt.plot(x, dg8(x), color='red', zorder=4)\nplt.scatter(1, g8(1), color='black', zorder=5)\nplt.scatter(1, dg8(1), color='black', zorder=5)\nplt.axhline( color = 'black')\nplt.axvline( color = 'black')\nplt.title(\"8. f(x) = log(x)\")\nplt.show()\n\n\n#9. f(x) = sin(x)\ndef g9(x):\n    return np.sin(x)\n\ndef dg9(x):\n    return np.cos(x)\n\nx = np.linspace(-3, 3, 1000)\nplt.plot(x, g9(x), color='green', zorder=4)\nplt.plot(x, dg9(x), color='red', zorder=4)\nplt.scatter(1, g9(1), color='black', zorder=5)\nplt.scatter(1, dg9(1), color='black', zorder=5)\nplt.axhline( color = 'black')\nplt.axvline( color = 'black')\nplt.title(\"9. f(x) = sin(x)\")\nplt.show()\n\n\n#10. f(x) = cos(x)\ndef g10(x):\n    return np.cos(x)\n\ndef dg10(x):\n    return -1 * np.sin(x)\n\nx = np.linspace(-3, 3, 1000)\nplt.plot(x, g10(x), color='green', zorder=4)\nplt.plot(x, dg10(x), color='red', zorder=4)\nplt.scatter(1, g10(1), color='black', zorder=5)\nplt.scatter(1, dg10(1), color='black', zorder=5)\nplt.axhline( color = 'black')\nplt.axvline( color = 'black')\nplt.title(\"10. f(x) = cos(x)\")\nplt.show()",
      "metadata": {
        "trusted": true
      },
      "execution_count": null,
      "outputs": [],
      "id": "201a680b-b768-47cb-a7e9-018aad3fbdb4"
    },
    {
      "cell_type": "code",
      "source": "#Problem 3. Use Simpy to calculate derivatives\nimport sympy as sym\nimport numpy as np\n\nx = sym.Symbol('x')\n\n#1. f(x) = 1\nprint(\"1. \", sym.diff(1, x))\n\n\n#2. f(x) = x\nprint(\"2. \", sym.diff(x, x))\n\n#3. f(x) = x^2\nprint(\"3. \", sym.diff(x*x, x))\n\n#4. f(x) = x^3\nprint(\"4. \", sym.diff(pow(x,3), x))\n\n\n#5. f(x) = √x\nprint(\"5. \", sym.diff(sym.sqrt(x), x))\n\n\n#6. f(x) = e^x\nprint(\"6. \", sym.diff(sym.exp(x), x))\n\n\n#7. f(x) = 2^x\nprint(\"7. \", sym.diff(pow(2,x), x))\n\n#8. f(x) = log(x)\nprint(\"8. \", sym.diff(sym.log(x), x))\n\n#9. f(x) = sin(x)\nprint(\"9. \", sym.diff(sym.sin(x), x))\n\n#10. f(x) = cos(x)\nprint(\"10. \", sym.diff(sym.cos(x), x))",
      "metadata": {
        "trusted": true
      },
      "execution_count": null,
      "outputs": [],
      "id": "2b881b7a-6c98-4f51-ae22-de0f2cb938a2"
    },
    {
      "cell_type": "code",
      "source": "#Problem 4 & 5. Numerical diferentiation\n\nimport numpy as np\n\n#1. f(x) = 1\ndef f1(x):\n    return 1\n\ndef df1(x):\n    return 0\n\n#2. f(x) = x\ndef f2(x):\n    return x\n\ndef df2(x):\n    return 1\n\n#3. f(x) = x^2\ndef f3(x):\n    return x*x\n\ndef df3(x):\n    return 2 * x\n\n#4. f(x) = x^3\ndef f4(x):\n    return x**x\n\ndef df4(x):\n    return 3 * (x*x)\n\n#5. f(x) = √x\ndef f5(x):\n    return np.sqrt(x)\n\ndef df5(x):\n    return 1/ 2 * np.sqrt(x)\n\n#6. f(x) = e^x\ndef f6(x):\n    return np.exp(x)\n\ndef df6(x):\n    return np.exp(x)\n\n#7. f(x) = 2^x\ndef f7(x):\n    return pow(2,x)\n\ndef df7(x):\n    return np.log(2) * pow(2,x)\n\n#8. f(x) = log(x)\ndef f8(x):\n    return np.log(x)\n\ndef df8(x):\n    return 1 / x\n\n#9. f(x) = sin(x)\ndef f9(x):\n    return np.sin(x)\n\ndef df9(x):\n    return np.cos(x)\n\n#10. f(x) = cos(x)\ndef f10(x):\n    return np.cos(x)\n\ndef df10(x):\n    return -1 * np.sin(x)\n\nh = 0.2 # delta x\n\n#Forward\ndef dff(x, f):\n    return (f(x+h)-f(x))/h\n\n#Backward\ndef dfb(x, f):\n    return (f(x)-f(x-h))/h\n\n#Central\ndef dfc(x, f):\n    return (f(x+h)-f(x-h))/(2*h)\n\nfunctions = [f1, f2, f3, f4, f5, f6, f7, f8, f9 , f10]\nderivatives = [df1, df2, df3, df4, df5, df6, df7, df8, df9, df10]\n\ndef derivative(df):\n    return df(1)\n\n\n#Results for problem 4\nfor i in range(len(functions)):\n    print(i+1, \". f=\", round(dff(1,functions[i]),4), \" | b=\", round(dfb(1,functions[i]),4), \" | c=\", round(dfc(1,functions[i]),4), \" | exact=\", round(derivative(derivatives[i]), 4))\n\nprint()\n\n#Results for problem 5   \nfor i in range(len(functions)):\n    exact = round(derivative(derivatives[i]), 4)\n    if exact != 0:\n        f = round((round(dff(1,functions[i]),4)-exact)/ abs(exact) * 100, 2)\n        b = round((round(dfb(1,functions[i]),4)-exact)/ abs(exact) * 100, 2)\n        c = round((round(dfc(1,functions[i]),4)-exact)/ abs(exact) * 100, 2)\n    else:\n        f = 0\n        b = 0\n        c = 0\n    \n    \n    print(i+1, \". f=\", f, \"% | b=\", b, \"% | c=\", c, \"% | exact=\", exact, sep=\"\")\n    \n\n\n\n",
      "metadata": {
        "trusted": true
      },
      "execution_count": null,
      "outputs": [],
      "id": "42e29fc3-58df-4fbc-bbbe-b66c73ff4db7"
    },
    {
      "cell_type": "code",
      "source": "",
      "metadata": {},
      "execution_count": null,
      "outputs": [],
      "id": "682b23ce-d849-429c-849a-d70f8bfd267d"
    }
  ]
}