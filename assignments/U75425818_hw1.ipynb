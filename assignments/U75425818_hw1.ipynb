{
  "metadata": {
    "kernelspec": {
      "name": "python",
      "display_name": "Python (Pyodide)",
      "language": "python"
    },
    "language_info": {
      "codemirror_mode": {
        "name": "python",
        "version": 3
      },
      "file_extension": ".py",
      "mimetype": "text/x-python",
      "name": "python",
      "nbconvert_exporter": "python",
      "pygments_lexer": "ipython3",
      "version": "3.8"
    }
  },
  "nbformat_minor": 5,
  "nbformat": 4,
  "cells": [
    {
      "cell_type": "markdown",
      "source": "Homework 1\n\nAbraham Cepeda Oseguera - U75425818",
      "metadata": {},
      "id": "64a946e2-da92-4c34-ae6e-8d1501724770"
    },
    {
      "cell_type": "code",
      "source": "#Problem 1. Find a solution to a1^5 + a2^5 + a3^5 + a4^5 = b^5\n\nrange_a1 = [*range(20, 41)]\nrange_a2 = [*range(80, 101)]\nrange_a3 = [*range(100, 121)]\nrange_a4 = [*range(120, 141)]\nrange_b = [*range(140, 161)]\n\n    \nfor a1 in range_a1:\n    for a2 in range_a2:\n        for a3 in range_a3:\n            for a4 in range_a4:\n                c_sum = pow(a1,5) + pow(a2,5) + pow(a3,5) + pow(a4,5)\n                for b in range_b:\n                    result = pow(b,5)\n                    if c_sum == result:\n                        print(\"Founded combination: a1=\", a1, \" a2=\", a2, \" a3=\", a3, \" a4=\", a4, \" | b=\", b, sep=\"\")\n    \n\"\"\"\n    <-----Result----->\n    Founded combination: a1=27 a2=84 a3=110 a4=133 | b=144\n\"\"\"\n",
      "metadata": {
        "trusted": true
      },
      "execution_count": 5,
      "outputs": [
        {
          "name": "stdout",
          "text": "Founded combination: a1=27 a2=84 a3=110 a4=133 | b=144\n",
          "output_type": "stream"
        }
      ],
      "id": "1fc0e15d-837d-4763-a72a-e09488d0e712"
    },
    {
      "cell_type": "code",
      "source": "#Problem 2. Adjacent Multiplication | BUID = U75425818\n\n#timeit \nimport timeit\nimport numpy as np\n\n\n#n\nn = 8 + 1 + 8 #last three digitis of BUID\n\n#large number\nl_number = \"7316717653133062491922511967442657474235534919493496983520312774506326239578318016984801869478851843858615607891129494954595017379583319528532088055111254069874715852386305071569329096329522744304355766896648950445244523161731856403098711121722383113622298934233803081353362766142828064444866452387493035890729629049156044077239071381051585930796086670172427121883998797908792274921901699720888093776657273330010533678812202354218097512545405947522435258490771167055601360483958644670632441572215539753697817977846174064955149290862569321978468622482839722413756570560574902614079729686524145351004748216637048440319989000889524345065854122758866688116427171479924442928230863465674813919123162824586178664583591245665294765456828489128831426076900422421902267105562632111110937054421750694165896040807198403850962455444362981230987879927244284909188845801561660979191338754992005240636899125607176060588611646710940507754100225698315520005593572972571636269561882670428252483600823257530420752963450\"\n\n\n\n#<-------ONLY USING PYTHON------->\ndef calculateResult():\n    max_num = 0 #max number\n    max_num_i = 0 # max number starting index\n    \n    for i,a in enumerate(l_number):\n        c_sum = 1 #value of current sum\n        if i < (len(l_number) - n+1):\n            for b in range(n):\n                c_sum *= int(l_number[i+b])\n                \n            if c_sum > max_num:\n                max_num = c_sum\n                max_num_i = i\n        else: \n            break\n            \n    #get adjacents numbers\n    results = l_number[max_num_i:max_num_i+n]\n    \n    #print results\n    print(\"digits: \", results, \" starting at index: \", max_num_i, \" mult: \", max_num)\n\n\n#Time for python\n%timeit -r 1 -n 1 calculateResult()\n\n\n        \n#<-------USING BOTH PYTHON AND NUMPY------->\ndef calculateResult2():\n    max_num = 0 #max number\n    max_num_i = 0 # max number starting index\n    c_sum = 1 #value of current sum\n    \n    #create numpy array\n    array = np.array(list(l_number), dtype=int)\n    \n    for i,a in enumerate(array):\n        \n        if i < (array.size - n + 1):\n            arr = array[i:i+n] #get subset\n            \n            #check for zeros\n            if np.where(arr==0)[0].size == 0:\n                c_sum = np.prod(arr, dtype=np.uint64) #get multiplication\n                if c_sum > max_num:\n                    max_num = c_sum\n                    max_num_i = i\n        else: \n            break\n            \n    #get adjacents numbers\n    results = array[max_num_i:max_num_i+n]\n    \n    #print results\n    print(\"digits: \", results, \" starting at index: \", max_num_i, \" mult: \", max_num)\n\n#Time for python\n%timeit -r 1 -n 1 calculateResult2()\n\n\n\"\"\"\n    <-----Result----->\n    digits:  55397536978179778  starting at index:  495  mult:  5292994896000\n    15.2 ms ± 0 ns per loop (mean ± std. dev. of 1 run, 1 loop each)\n    digits:  [5 5 3 9 7 5 3 6 9 7 8 1 7 9 7 7 8]  starting at index:  495  mult:  5292994896000\n    23.8 ms ± 0 ns per loop (mean ± std. dev. of 1 run, 1 loop each)\n\"\"\"\n",
      "metadata": {
        "trusted": true
      },
      "execution_count": 1,
      "outputs": [
        {
          "name": "stdout",
          "text": "digits:  55397536978179778  starting at index:  495  mult:  5292994896000\n15.2 ms ± 0 ns per loop (mean ± std. dev. of 1 run, 1 loop each)\ndigits:  [5 5 3 9 7 5 3 6 9 7 8 1 7 9 7 7 8]  starting at index:  495  mult:  5292994896000\n23.8 ms ± 0 ns per loop (mean ± std. dev. of 1 run, 1 loop each)\n",
          "output_type": "stream"
        }
      ],
      "id": "7e6d740f-94c1-4c3c-9227-b28000c1ce56"
    },
    {
      "cell_type": "code",
      "source": "#Problem 3. Pythogorean Triplets\n\n# rules: \n# a^2 + b^2 = c^2\n# a + b + c = 1000\n# a + b > c\n# c < 1000/2\n# c > 334\n# a < c\n# b < c\n\n\n#examples\n# 3 + 4 = 5  | 12\n# 6 + 8 = 10 | 24\n\n#initial values\na = 498\nb = 3\nc = 499\n\n\nwhile c > 333:\n    #check a^2 + b^2 = c^2\n    a_b = pow(a,2)+pow(b,2) # a^2 + b^2\n    c_2 = pow(c,2) # c^2\n        \n    reset = False\n    \n    if a_b == c_2:\n        #print combination\n        print(\"-------> a: \", a, \" b: \", b, \" c: \", c)\n        \n        reset = True\n    elif a_b < c_2:\n        reset = True\n    elif a > b:\n        a -= 1 # decrease a by 1\n        b += 1 # increase b by 1\n    else:\n        reset = True\n    \n    #reset values to check next value of c\n    if reset:\n        c -= 1 # decrease c by 1\n        a = c - 1 # reset a to c - 1\n        b = 1000 - c - a # reset b to 1000 - c - a\n\n\"\"\"\n    <-----Result----->\n    a:  375  b:  200  c:  425\n\"\"\"\n\n",
      "metadata": {
        "trusted": true
      },
      "execution_count": 4,
      "outputs": [
        {
          "name": "stdout",
          "text": "-------> a:  375  b:  200  c:  425\n",
          "output_type": "stream"
        }
      ],
      "id": "21957b9f-fb26-4675-8ef9-d95981140fee"
    },
    {
      "cell_type": "code",
      "source": "#Problem 4. Integer Right Triangles\n\n# rules: \n# a^2 + b^2 = c^2\n# a + b + c = p\n# p <= 1000\n# a + b > c\n# c < 1000/2\n# a < c\n# b < c\n\nimport math\n\n#initial values\nnum = 1000\n\nmax_num = 0 # max number of combinations\nmax_comb = [] # combinatios\nmax_val = 0\n\nwhile num > 99:\n    \n    c = math.floor(num/2 - 1)\n    a = c - 1\n    b = num - c - a\n    \n    c_num = 0 # current number of combinations\n    c_comb = [] # current combinations\n    \n    while c > 100:\n        #check a^2 + b^2 = c^2\n        a_b = pow(a,2)+pow(b,2) # a^2 + b^2\n        c_2 = pow(c,2) # c^2\n\n        reset = False\n\n        if a_b == c_2:\n            c_num += 1\n            c_comb.append([a,b,c]) # append to current combination\n\n            reset = True\n        elif a_b < c_2:\n            reset = True\n        elif a > b:\n            a -= 1 # decrease a by 1\n            b += 1 # increase b by 1\n        else:\n            reset = True\n\n        #reset values to check next value of c\n        if reset:\n            c -= 1 # decrease c by 1\n            a = c - 1 # reset a to c - 1\n            b = num - c - a # reset b to 1000 - c - a\n            \n    if c_num > max_num:\n        #updated maximum values\n        max_num = c_num\n        max_val = num\n        max_comb.clear()\n        \n        for e in c_comb:\n            max_comb.append(e)\n        \n    num -= 1\n\n#print results\nprint(\"Value: \", max_val)\nprint(\"Num of solutions: \", len(max_comb))\nprint(\"combinations: \", max_comb)\n\n\"\"\"\n    <-----Result----->\n    Value:  840\n    Num of solutions:  8\n    combinations:  [[399, 40, 401], [390, 56, 394], [360, 105, 375], [350, 120, 370], [336, 140, 364], [315, 168, 357], [280, 210, 350], [252, 240, 348]]\n\"\"\"",
      "metadata": {
        "trusted": true
      },
      "execution_count": 17,
      "outputs": [
        {
          "name": "stdout",
          "text": "Value:  840\nNum of solutions:  8\ncombinations:  [[399, 40, 401], [390, 56, 394], [360, 105, 375], [350, 120, 370], [336, 140, 364], [315, 168, 357], [280, 210, 350], [252, 240, 348]]\n",
          "output_type": "stream"
        }
      ],
      "id": "adb74b85-1500-45c7-a97b-5d40834b1231"
    },
    {
      "cell_type": "code",
      "source": "\"\"\"\n    Comment: It takes very long to get the result (15 min aproximately)\n    Result for n = 100: 190569291 \n\"\"\"\n\n#example, n = 5\n# 4 + 1\n# 3 + 2\n# 3 + 1 + 1\n# 2 + 2 + 1\n# 2 + 1 + 1 + 1\n# 1 + 1 + 1 + 1 + 1\n\n#initial values\nn = 10\nn_combs = 0 #number of combinations\nflag = True\narr = [0 for i in range(n)]\n\n#arr = array holding combination\n#i = current number\n#r = remainder to sum n\n#index = current index of array\ndef findCombination(arr, i, r, index):\n    global n_combs\n    \n    #Found a combination with two or more positive integers\n    if (r == 0 and arr[0] != n):\n        n_combs += 1\n        \n        if flag:\n            #print combination\n            if (len(arr) != 1):\n                c_sum = 0\n                for e in range(len(arr)):\n                    c_sum += arr[e]\n                    if c_sum <= n:\n                        print(arr[e], end = \" \")\n                print()\n        return\n                \n    for j in range(i, r+1):\n        arr[index] = j\n        findCombination(arr, j, r - j, index + 1) # recursion\n    \n    return\n \nfindCombination(arr, 1, n, 0)\n\n#Print Result\nprint(\"Result: \", n_combs)\n",
      "metadata": {
        "trusted": true
      },
      "execution_count": 7,
      "outputs": [
        {
          "name": "stdout",
          "text": "1 1 1 1 1 1 1 1 1 1 \n1 1 1 1 1 1 1 1 2 \n1 1 1 1 1 1 1 3 \n1 1 1 1 1 1 2 2 \n1 1 1 1 1 1 4 \n1 1 1 1 1 2 3 \n1 1 1 1 1 5 \n1 1 1 1 2 2 2 \n1 1 1 1 2 4 \n1 1 1 1 3 3 \n1 1 1 1 6 \n1 1 1 2 2 3 \n1 1 1 2 5 \n1 1 1 3 4 \n1 1 1 7 \n1 1 2 2 2 2 \n1 1 2 2 4 \n1 1 2 3 3 \n1 1 2 6 \n1 1 3 5 \n1 1 4 4 \n1 1 8 \n1 2 2 2 3 \n1 2 2 5 \n1 2 3 4 \n1 2 7 \n1 3 3 3 \n1 3 6 \n1 4 5 \n1 9 \n2 2 2 2 2 \n2 2 2 4 \n2 2 3 3 \n2 2 6 \n2 3 5 \n2 4 4 \n2 8 \n3 3 4 \n3 7 \n4 6 \n5 5 \nResultttt:  41\n",
          "output_type": "stream"
        }
      ],
      "id": "f9502d71-a574-4453-b608-48063bc3f263"
    },
    {
      "cell_type": "code",
      "source": "",
      "metadata": {},
      "execution_count": null,
      "outputs": [],
      "id": "678cdee2-9593-447e-8657-75f824eee041"
    }
  ]
}